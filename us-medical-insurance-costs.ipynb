{
 "cells": [
  {
   "cell_type": "markdown",
   "metadata": {},
   "source": [
    "# U.S. Medical Insurance Costs"
   ]
  },
  {
   "cell_type": "markdown",
   "metadata": {},
   "source": [
    "## Scoping and Exploring"
   ]
  },
  {
   "cell_type": "code",
   "execution_count": 1,
   "metadata": {},
   "outputs": [],
   "source": [
    "import csv\n",
    "\n",
    "insurance_dict = []\n",
    "with open('insurance.csv') as insurance_csv:\n",
    "    insurance = csv.DictReader(insurance_csv)\n",
    "    for row in insurance:\n",
    "        insurance_dict.append(row)   "
   ]
  },
  {
   "cell_type": "markdown",
   "metadata": {},
   "source": [
    "### Average Age"
   ]
  },
  {
   "cell_type": "code",
   "execution_count": 2,
   "metadata": {},
   "outputs": [
    {
     "name": "stdout",
     "output_type": "stream",
     "text": [
      "The average age is: 39.21\n"
     ]
    }
   ],
   "source": [
    "total_age = 0\n",
    "count = 0\n",
    "for row in insurance_dict:\n",
    "    total_age += int(row['age'])\n",
    "    count += 1\n",
    "average_age = total_age / count\n",
    "print(\"The average age is: \" + str(round(average_age,2)))"
   ]
  },
  {
   "cell_type": "markdown",
   "metadata": {},
   "source": [
    "### Count by Sex"
   ]
  },
  {
   "cell_type": "code",
   "execution_count": 3,
   "metadata": {},
   "outputs": [
    {
     "name": "stdout",
     "output_type": "stream",
     "text": [
      "There are: 676 males and 662 females and 0 unknowns\n"
     ]
    }
   ],
   "source": [
    "male_count = 0\n",
    "female_count = 0\n",
    "unknown_count = 0\n",
    "for row in insurance_dict:\n",
    "    if row['sex'] == 'female':\n",
    "        female_count += 1\n",
    "    elif row['sex'] == 'male':\n",
    "        male_count += 1\n",
    "    else:\n",
    "        unknown_count += 1\n",
    "print(\"There are: \" + str(male_count) + \" males and \" + str(female_count) + \" females and \" + str(unknown_count) + \" unknowns\")"
   ]
  },
  {
   "cell_type": "markdown",
   "metadata": {},
   "source": [
    "### BMI Range"
   ]
  },
  {
   "cell_type": "code",
   "execution_count": 4,
   "metadata": {},
   "outputs": [
    {
     "name": "stdout",
     "output_type": "stream",
     "text": [
      "The min BMI is 15.96 and the max is 53.13\n"
     ]
    }
   ],
   "source": [
    "max_bmi = 0\n",
    "for bmi in insurance_dict:\n",
    "    if float(bmi['bmi']) > max_bmi:\n",
    "        max_bmi = float(bmi['bmi'])\n",
    "    else:\n",
    "        pass\n",
    "min_bmi = float('inf')\n",
    "for bmi in insurance_dict:\n",
    "    if float(bmi['bmi']) < min_bmi:\n",
    "        min_bmi = float(bmi['bmi'])\n",
    "    else:\n",
    "        pass\n",
    "print(\"The min BMI is \" + str(min_bmi) + \" and the max is \" + str(max_bmi))"
   ]
  },
  {
   "cell_type": "markdown",
   "metadata": {},
   "source": [
    "### Counts by Number of Children"
   ]
  },
  {
   "cell_type": "code",
   "execution_count": 5,
   "metadata": {},
   "outputs": [
    {
     "name": "stdout",
     "output_type": "stream",
     "text": [
      "There are 574 people with 0 children\n",
      "There are 324 people with 1 children\n",
      "There are 240 people with 2 children\n",
      "There are 157 people with 3 children\n",
      "There are 25 people with 4 children\n",
      "There are 18 people with 5 children\n"
     ]
    }
   ],
   "source": [
    "num_children = []\n",
    "for row in insurance_dict:\n",
    "    num_children.append(row['children'])\n",
    "unique_num_children = list(set(num_children))\n",
    "unique_num_children.sort()\n",
    "# print(unique_num_children)\n",
    "# ['0', '1', '2', '3', '4', '5']\n",
    "child_counts = []\n",
    "for i in unique_num_children:\n",
    "    child_counts.append(num_children.count(i))\n",
    "for i in range(len(unique_num_children)):\n",
    "    print(\"There are \" + str(child_counts[i]) + \" people with \" + str(unique_num_children[i]) + \" children\")"
   ]
  },
  {
   "cell_type": "markdown",
   "metadata": {},
   "source": [
    "### Counts by Smoker Status"
   ]
  },
  {
   "cell_type": "code",
   "execution_count": 6,
   "metadata": {},
   "outputs": [
    {
     "name": "stdout",
     "output_type": "stream",
     "text": [
      "There are: 274 smokers and 1064 nonsmokers and 0 unknowns\n"
     ]
    }
   ],
   "source": [
    "smoker_count = 0\n",
    "nonsmoker_count = 0\n",
    "unknown_count = 0\n",
    "for row in insurance_dict:\n",
    "    if row['smoker'] == 'yes':\n",
    "        smoker_count += 1\n",
    "    elif row['smoker'] == 'no':\n",
    "        nonsmoker_count += 1\n",
    "    else:\n",
    "        unknown_count += 1\n",
    "print(\"There are: \" + str(smoker_count) + \" smokers and \" + str(nonsmoker_count) + \" nonsmokers and \" + str(unknown_count) + \" unknowns\")"
   ]
  },
  {
   "cell_type": "markdown",
   "metadata": {},
   "source": [
    "### Region Counts"
   ]
  },
  {
   "cell_type": "code",
   "execution_count": 7,
   "metadata": {},
   "outputs": [
    {
     "name": "stdout",
     "output_type": "stream",
     "text": [
      "There are 324 in the northeast region\n",
      "There are 325 in the northwest region\n",
      "There are 364 in the southeast region\n",
      "There are 325 in the southwest region\n"
     ]
    }
   ],
   "source": [
    "regions = []\n",
    "for row in insurance_dict:\n",
    "    regions.append(row['region'])\n",
    "unique_regions = list(set(regions))\n",
    "unique_regions.sort()\n",
    "region_counts = []\n",
    "for i in unique_regions:\n",
    "    region_counts.append(regions.count(i))\n",
    "for i in range(len(unique_regions)):\n",
    "    print(\"There are \" + str(region_counts[i]) + \" in the \" + str(unique_regions[i]) + \" region\")"
   ]
  },
  {
   "cell_type": "markdown",
   "metadata": {},
   "source": [
    "### Average Charge"
   ]
  },
  {
   "cell_type": "code",
   "execution_count": 8,
   "metadata": {},
   "outputs": [
    {
     "name": "stdout",
     "output_type": "stream",
     "text": [
      "The average charge is: 13270.42\n"
     ]
    }
   ],
   "source": [
    "total_charge = 0\n",
    "for row in insurance_dict:\n",
    "    total_charge += float(row['charges'])\n",
    "average_charge = total_charge / count\n",
    "print(\"The average charge is: \" + str(round(average_charge,2)))"
   ]
  },
  {
   "cell_type": "markdown",
   "metadata": {},
   "source": [
    "### Average Charge by Smoker Status"
   ]
  },
  {
   "cell_type": "code",
   "execution_count": 9,
   "metadata": {},
   "outputs": [
    {
     "name": "stdout",
     "output_type": "stream",
     "text": [
      "The average smoker charge is: 32050.23\n",
      "The average nonsmoker charge is: 8434.27\n"
     ]
    }
   ],
   "source": [
    "total_smoker_charge = 0\n",
    "total_nonsmoker_charge = 0\n",
    "for row in insurance_dict:\n",
    "    if row['smoker'] == 'yes':\n",
    "        total_smoker_charge += float(row['charges'])\n",
    "    else:\n",
    "        total_nonsmoker_charge += float(row['charges'])\n",
    "average_smoker_charge = total_smoker_charge / smoker_count\n",
    "average_nonsmoker_charge = total_nonsmoker_charge / nonsmoker_count\n",
    "print(\"The average smoker charge is: \" + str(round(average_smoker_charge,2)))\n",
    "print(\"The average nonsmoker charge is: \" + str(round(average_nonsmoker_charge,2)))"
   ]
  },
  {
   "cell_type": "markdown",
   "metadata": {},
   "source": [
    "### Average Age by Number of Children"
   ]
  },
  {
   "cell_type": "code",
   "execution_count": 10,
   "metadata": {},
   "outputs": [
    {
     "name": "stdout",
     "output_type": "stream",
     "text": [
      "The average age for 0 children is: 38.44\n",
      "The average age for 1 or more children is: 39.78\n"
     ]
    }
   ],
   "source": [
    "total_age_no_children = 0\n",
    "no_children_count = 0\n",
    "total_age_w_children = 0\n",
    "w_children_count = 0\n",
    "for row in insurance_dict:\n",
    "    if int(row['children']) == 0:\n",
    "        total_age_no_children += int(row['age'])\n",
    "        no_children_count += 1\n",
    "    else:\n",
    "        total_age_w_children += int(row['age'])\n",
    "        w_children_count += 1\n",
    "average_age_no_children = total_age_no_children / no_children_count\n",
    "average_age_w_children = total_age_w_children / w_children_count\n",
    "print(\"The average age for 0 children is: \" + str(round(average_age_no_children,2)))\n",
    "print(\"The average age for 1 or more children is: \" + str(round(average_age_w_children,2)))"
   ]
  }
 ],
 "metadata": {
  "kernelspec": {
   "display_name": "Python 3 (ipykernel)",
   "language": "python",
   "name": "python3"
  },
  "language_info": {
   "codemirror_mode": {
    "name": "ipython",
    "version": 3
   },
   "file_extension": ".py",
   "mimetype": "text/x-python",
   "name": "python",
   "nbconvert_exporter": "python",
   "pygments_lexer": "ipython3",
   "version": "3.11.7"
  }
 },
 "nbformat": 4,
 "nbformat_minor": 4
}
